{
 "cells": [
  {
   "cell_type": "markdown",
   "metadata": {},
   "source": [
    "# Variable selection: Variance Inflation Factor\n",
    "This notebook is based on: \n",
    "https://github.com/mycarta/Data-science-tools-petroleum-exploration-and-production/blob/master/Python/notebooks/variable_selection_02_VIF.ipynb"
   ]
  },
  {
   "cell_type": "markdown",
   "metadata": {},
   "source": [
    "## Libraries"
   ]
  },
  {
   "cell_type": "code",
   "execution_count": 1,
   "metadata": {},
   "outputs": [],
   "source": [
    "import pandas as pd\n",
    "import numpy as np\n",
    "import glob\n",
    "import os\n",
    "from patsy import dmatrices, dmatrix\n",
    "import statsmodels.api as sm\n",
    "from statsmodels.stats.outliers_influence import variance_inflation_factor"
   ]
  },
  {
   "cell_type": "markdown",
   "metadata": {},
   "source": [
    "## Import and format data"
   ]
  },
  {
   "cell_type": "code",
   "execution_count": 2,
   "metadata": {},
   "outputs": [],
   "source": [
    "# Find most recent instance of processed data\n",
    "runs_dir = \"Runs/\"\n",
    "run_folders = glob.glob(os.path.join(runs_dir, \"*\"))\n",
    "latest_run = run_folders[-1]\n",
    "scaled_data = os.path.join(latest_run, \"final_data_scaled.csv\")\n",
    "# Import scaled .csv file\n",
    "data = pd.read_csv(scaled_data)"
   ]
  },
  {
   "cell_type": "code",
   "execution_count": 3,
   "metadata": {},
   "outputs": [],
   "source": [
    "# Drop the 'Unnamed: 0' field\n",
    "data.drop(['Unnamed: 0'], axis=1, inplace=True)\n",
    "# Rename trouble fields\n",
    "data.rename(\n",
    "    columns={'flow_0.1_exceedence_prob': 'flow_0_1_exceedence_prob'},\n",
    "    inplace=True\n",
    ")"
   ]
  },
  {
   "cell_type": "markdown",
   "metadata": {},
   "source": [
    "## Regression"
   ]
  },
  {
   "cell_type": "code",
   "execution_count": 4,
   "metadata": {},
   "outputs": [],
   "source": [
    "# Format the long query for dmatrices\n",
    "column_list = data.columns.tolist()\n",
    "column_list.remove('subwatershed')\n",
    "column_list.remove('claims_total_building_insurance_coverage_avg')\n",
    "query = ' +'.join(column_list)\n",
    "dmatrices_field = \"claims_total_building_insurance_coverage_avg ~ \" + query"
   ]
  },
  {
   "cell_type": "code",
   "execution_count": 5,
   "metadata": {},
   "outputs": [],
   "source": [
    "outcome, predictors = dmatrices(dmatrices_field, data, return_type='dataframe')"
   ]
  },
  {
   "cell_type": "markdown",
   "metadata": {},
   "source": [
    "## Variance Inflation Factor"
   ]
  },
  {
   "cell_type": "code",
   "execution_count": 6,
   "metadata": {},
   "outputs": [],
   "source": [
    "vif = pd.DataFrame()\n",
    "vif[\"VIF Factor\"] = [variance_inflation_factor(predictors.values, i) for i in range(predictors.shape[1])]\n",
    "vif[\"features\"] = predictors.columns"
   ]
  },
  {
   "cell_type": "code",
   "execution_count": 7,
   "metadata": {},
   "outputs": [
    {
     "data": {
      "text/html": [
       "<div>\n",
       "<style scoped>\n",
       "    .dataframe tbody tr th:only-of-type {\n",
       "        vertical-align: middle;\n",
       "    }\n",
       "\n",
       "    .dataframe tbody tr th {\n",
       "        vertical-align: top;\n",
       "    }\n",
       "\n",
       "    .dataframe thead th {\n",
       "        text-align: right;\n",
       "    }\n",
       "</style>\n",
       "<table border=\"1\" class=\"dataframe\">\n",
       "  <thead>\n",
       "    <tr style=\"text-align: right;\">\n",
       "      <th></th>\n",
       "      <th>VIF Factor</th>\n",
       "      <th>features</th>\n",
       "    </tr>\n",
       "  </thead>\n",
       "  <tbody>\n",
       "    <tr>\n",
       "      <th>54</th>\n",
       "      <td>4496798.2</td>\n",
       "      <td>orb100yr24ha_am</td>\n",
       "    </tr>\n",
       "    <tr>\n",
       "      <th>42</th>\n",
       "      <td>4452167.9</td>\n",
       "      <td>orb100yr24h</td>\n",
       "    </tr>\n",
       "    <tr>\n",
       "      <th>63</th>\n",
       "      <td>3113900.8</td>\n",
       "      <td>orb50yr24ha_am</td>\n",
       "    </tr>\n",
       "    <tr>\n",
       "      <th>51</th>\n",
       "      <td>3090414.0</td>\n",
       "      <td>orb50yr24h</td>\n",
       "    </tr>\n",
       "    <tr>\n",
       "      <th>41</th>\n",
       "      <td>2114831.1</td>\n",
       "      <td>orb100yr12h</td>\n",
       "    </tr>\n",
       "    <tr>\n",
       "      <th>53</th>\n",
       "      <td>2101394.6</td>\n",
       "      <td>orb100yr12ha_am</td>\n",
       "    </tr>\n",
       "    <tr>\n",
       "      <th>52</th>\n",
       "      <td>1877723.9</td>\n",
       "      <td>orb100yr06ha_am</td>\n",
       "    </tr>\n",
       "    <tr>\n",
       "      <th>40</th>\n",
       "      <td>1858328.6</td>\n",
       "      <td>orb100yr06h</td>\n",
       "    </tr>\n",
       "    <tr>\n",
       "      <th>57</th>\n",
       "      <td>1843450.7</td>\n",
       "      <td>orb25yr24ha_am</td>\n",
       "    </tr>\n",
       "    <tr>\n",
       "      <th>45</th>\n",
       "      <td>1829084.2</td>\n",
       "      <td>orb25yr24h</td>\n",
       "    </tr>\n",
       "    <tr>\n",
       "      <th>50</th>\n",
       "      <td>1486254.6</td>\n",
       "      <td>orb50yr12h</td>\n",
       "    </tr>\n",
       "    <tr>\n",
       "      <th>62</th>\n",
       "      <td>1481574.1</td>\n",
       "      <td>orb50yr12ha_am</td>\n",
       "    </tr>\n",
       "    <tr>\n",
       "      <th>49</th>\n",
       "      <td>1138282.8</td>\n",
       "      <td>orb50yr06h</td>\n",
       "    </tr>\n",
       "    <tr>\n",
       "      <th>61</th>\n",
       "      <td>1084184.4</td>\n",
       "      <td>orb50yr06ha_am</td>\n",
       "    </tr>\n",
       "    <tr>\n",
       "      <th>56</th>\n",
       "      <td>1035147.2</td>\n",
       "      <td>orb25yr12ha_am</td>\n",
       "    </tr>\n",
       "    <tr>\n",
       "      <th>44</th>\n",
       "      <td>1027534.6</td>\n",
       "      <td>orb25yr12h</td>\n",
       "    </tr>\n",
       "    <tr>\n",
       "      <th>43</th>\n",
       "      <td>829151.6</td>\n",
       "      <td>orb25yr06h</td>\n",
       "    </tr>\n",
       "    <tr>\n",
       "      <th>55</th>\n",
       "      <td>782149.7</td>\n",
       "      <td>orb25yr06ha_am</td>\n",
       "    </tr>\n",
       "    <tr>\n",
       "      <th>60</th>\n",
       "      <td>407987.3</td>\n",
       "      <td>orb2yr24ha_am</td>\n",
       "    </tr>\n",
       "    <tr>\n",
       "      <th>48</th>\n",
       "      <td>406396.0</td>\n",
       "      <td>orb2yr24h</td>\n",
       "    </tr>\n",
       "  </tbody>\n",
       "</table>\n",
       "</div>"
      ],
      "text/plain": [
       "    VIF Factor         features\n",
       "54   4496798.2  orb100yr24ha_am\n",
       "42   4452167.9      orb100yr24h\n",
       "63   3113900.8   orb50yr24ha_am\n",
       "51   3090414.0       orb50yr24h\n",
       "41   2114831.1      orb100yr12h\n",
       "53   2101394.6  orb100yr12ha_am\n",
       "52   1877723.9  orb100yr06ha_am\n",
       "40   1858328.6      orb100yr06h\n",
       "57   1843450.7   orb25yr24ha_am\n",
       "45   1829084.2       orb25yr24h\n",
       "50   1486254.6       orb50yr12h\n",
       "62   1481574.1   orb50yr12ha_am\n",
       "49   1138282.8       orb50yr06h\n",
       "61   1084184.4   orb50yr06ha_am\n",
       "56   1035147.2   orb25yr12ha_am\n",
       "44   1027534.6       orb25yr12h\n",
       "43    829151.6       orb25yr06h\n",
       "55    782149.7   orb25yr06ha_am\n",
       "60    407987.3    orb2yr24ha_am\n",
       "48    406396.0        orb2yr24h"
      ]
     },
     "execution_count": 7,
     "metadata": {},
     "output_type": "execute_result"
    }
   ],
   "source": [
    "vif.sort_values(\n",
    "    by=['VIF Factor'],\n",
    "    ascending=False,\n",
    "    inplace=True\n",
    ")\n",
    "vif.head(20).round(1)"
   ]
  },
  {
   "cell_type": "markdown",
   "metadata": {},
   "source": [
    "Rainfall metrics have a high variance inflation factor because they \"explain\" the same variance within this dataset.\n",
    "\n",
    "The high VIF for the intercept is to be expected. Read below:\n",
    "\n",
    "here: https://stackoverflow.com/a/48819434/1034648\n",
    "\n",
    "and here: https://stats.stackexchange.com/a/386157/54871\n",
    "\n",
    "and here: https://stats.stackexchange.com/a/7950/54871"
   ]
  },
  {
   "cell_type": "markdown",
   "metadata": {},
   "source": [
    "## Remove Top Factors and repeat"
   ]
  },
  {
   "cell_type": "code",
   "execution_count": 8,
   "metadata": {},
   "outputs": [],
   "source": [
    "drop_factors = [\n",
    "    'orb100yr06h', 'orb100yr12h', 'orb100yr24h', 'orb25yr06h', 'orb25yr12h',\n",
    "    'orb25yr24h', 'orb2yr06h', 'orb2yr12h', 'orb2yr24h', 'orb50yr06h',\n",
    "    'orb50yr12h', 'orb50yr24h', 'orb100yr06ha_am', 'orb100yr12ha_am',\n",
    "    'orb100yr24ha_am', 'orb25yr06ha_am', 'orb25yr12ha_am', 'orb25yr24ha_am',\n",
    "    'orb2yr06ha_am', 'orb2yr12ha_am', 'orb2yr24ha_am', 'orb50yr06ha_am',\n",
    "    'orb50yr12ha_am', 'orb50yr24ha_am'\n",
    "]\n",
    "\n",
    "data_d1 = data.drop(\n",
    "    columns=drop_factors,\n",
    "    axis=1\n",
    ")\n",
    "new_column_list = [ x for x in column_list if x not in drop_factors]\n",
    "new_query = ' +'.join(new_column_list)\n",
    "new_dmatrices_field = \"claims_total_building_insurance_coverage_avg ~ \" + new_query"
   ]
  },
  {
   "cell_type": "code",
   "execution_count": 9,
   "metadata": {},
   "outputs": [],
   "source": [
    "outcome, predictors = dmatrices(new_dmatrices_field, data_d1, return_type='dataframe')"
   ]
  },
  {
   "cell_type": "code",
   "execution_count": 10,
   "metadata": {},
   "outputs": [],
   "source": [
    "vif = pd.DataFrame()\n",
    "vif[\"VIF Factor\"] = [variance_inflation_factor(predictors.values, i) for i in range(predictors.shape[1])]\n",
    "vif[\"features\"] = predictors.columns"
   ]
  },
  {
   "cell_type": "code",
   "execution_count": 11,
   "metadata": {},
   "outputs": [
    {
     "data": {
      "text/html": [
       "<div>\n",
       "<style scoped>\n",
       "    .dataframe tbody tr th:only-of-type {\n",
       "        vertical-align: middle;\n",
       "    }\n",
       "\n",
       "    .dataframe tbody tr th {\n",
       "        vertical-align: top;\n",
       "    }\n",
       "\n",
       "    .dataframe thead th {\n",
       "        text-align: right;\n",
       "    }\n",
       "</style>\n",
       "<table border=\"1\" class=\"dataframe\">\n",
       "  <thead>\n",
       "    <tr style=\"text-align: right;\">\n",
       "      <th></th>\n",
       "      <th>VIF Factor</th>\n",
       "      <th>features</th>\n",
       "    </tr>\n",
       "  </thead>\n",
       "  <tbody>\n",
       "    <tr>\n",
       "      <th>0</th>\n",
       "      <td>79507.3</td>\n",
       "      <td>Intercept</td>\n",
       "    </tr>\n",
       "    <tr>\n",
       "      <th>41</th>\n",
       "      <td>248.9</td>\n",
       "      <td>flow_0_1_exceedence_prob</td>\n",
       "    </tr>\n",
       "    <tr>\n",
       "      <th>45</th>\n",
       "      <td>172.9</td>\n",
       "      <td>slope_of_flow_duration_curve</td>\n",
       "    </tr>\n",
       "    <tr>\n",
       "      <th>21</th>\n",
       "      <td>80.5</td>\n",
       "      <td>population</td>\n",
       "    </tr>\n",
       "    <tr>\n",
       "      <th>39</th>\n",
       "      <td>80.4</td>\n",
       "      <td>avg_impervious_percent</td>\n",
       "    </tr>\n",
       "    <tr>\n",
       "      <th>22</th>\n",
       "      <td>65.4</td>\n",
       "      <td>population_density</td>\n",
       "    </tr>\n",
       "    <tr>\n",
       "      <th>35</th>\n",
       "      <td>55.6</td>\n",
       "      <td>lu_23_area</td>\n",
       "    </tr>\n",
       "    <tr>\n",
       "      <th>42</th>\n",
       "      <td>45.3</td>\n",
       "      <td>flow_1_exceedence_prob</td>\n",
       "    </tr>\n",
       "    <tr>\n",
       "      <th>34</th>\n",
       "      <td>30.5</td>\n",
       "      <td>lu_22_area</td>\n",
       "    </tr>\n",
       "    <tr>\n",
       "      <th>11</th>\n",
       "      <td>28.0</td>\n",
       "      <td>ruggedness</td>\n",
       "    </tr>\n",
       "    <tr>\n",
       "      <th>10</th>\n",
       "      <td>27.3</td>\n",
       "      <td>relief_ratio</td>\n",
       "    </tr>\n",
       "    <tr>\n",
       "      <th>24</th>\n",
       "      <td>23.2</td>\n",
       "      <td>housing_density</td>\n",
       "    </tr>\n",
       "    <tr>\n",
       "      <th>4</th>\n",
       "      <td>21.2</td>\n",
       "      <td>relief</td>\n",
       "    </tr>\n",
       "    <tr>\n",
       "      <th>36</th>\n",
       "      <td>20.8</td>\n",
       "      <td>lu_24_area</td>\n",
       "    </tr>\n",
       "    <tr>\n",
       "      <th>1</th>\n",
       "      <td>19.4</td>\n",
       "      <td>area</td>\n",
       "    </tr>\n",
       "    <tr>\n",
       "      <th>40</th>\n",
       "      <td>18.3</td>\n",
       "      <td>flow_0_exceedence_prob</td>\n",
       "    </tr>\n",
       "    <tr>\n",
       "      <th>2</th>\n",
       "      <td>17.5</td>\n",
       "      <td>perimeter</td>\n",
       "    </tr>\n",
       "    <tr>\n",
       "      <th>7</th>\n",
       "      <td>17.1</td>\n",
       "      <td>elongation_ratio</td>\n",
       "    </tr>\n",
       "    <tr>\n",
       "      <th>27</th>\n",
       "      <td>16.0</td>\n",
       "      <td>dist_to_stream_avg</td>\n",
       "    </tr>\n",
       "    <tr>\n",
       "      <th>19</th>\n",
       "      <td>15.7</td>\n",
       "      <td>streets_km</td>\n",
       "    </tr>\n",
       "  </tbody>\n",
       "</table>\n",
       "</div>"
      ],
      "text/plain": [
       "    VIF Factor                      features\n",
       "0      79507.3                     Intercept\n",
       "41       248.9      flow_0_1_exceedence_prob\n",
       "45       172.9  slope_of_flow_duration_curve\n",
       "21        80.5                    population\n",
       "39        80.4        avg_impervious_percent\n",
       "22        65.4            population_density\n",
       "35        55.6                    lu_23_area\n",
       "42        45.3        flow_1_exceedence_prob\n",
       "34        30.5                    lu_22_area\n",
       "11        28.0                    ruggedness\n",
       "10        27.3                  relief_ratio\n",
       "24        23.2               housing_density\n",
       "4         21.2                        relief\n",
       "36        20.8                    lu_24_area\n",
       "1         19.4                          area\n",
       "40        18.3        flow_0_exceedence_prob\n",
       "2         17.5                     perimeter\n",
       "7         17.1              elongation_ratio\n",
       "27        16.0            dist_to_stream_avg\n",
       "19        15.7                    streets_km"
      ]
     },
     "execution_count": 11,
     "metadata": {},
     "output_type": "execute_result"
    }
   ],
   "source": [
    "vif.sort_values(\n",
    "    by=['VIF Factor'],\n",
    "    ascending=False,\n",
    "    inplace=True\n",
    ")\n",
    "vif.head(20).round(1)"
   ]
  },
  {
   "cell_type": "markdown",
   "metadata": {},
   "source": [
    "## Remove a different field and repeat?"
   ]
  },
  {
   "cell_type": "code",
   "execution_count": null,
   "metadata": {},
   "outputs": [],
   "source": [
    "drop_factors = [\n",
    "]\n",
    "\n",
    "data_d2 = data.drop(\n",
    "    columns=drop_factors,\n",
    "    axis=1\n",
    ")\n",
    "new_column_list = [ x for x in column_list if x not in drop_factors]\n",
    "new_query = ' +'.join(new_column_list)\n",
    "new_dmatrices_field = \"claims_total_building_insurance_coverage_avg ~ \" + new_query"
   ]
  },
  {
   "cell_type": "code",
   "execution_count": null,
   "metadata": {},
   "outputs": [],
   "source": [
    "outcome, predictors = dmatrices(new_dmatrices_field, data_d2, return_type='dataframe')"
   ]
  },
  {
   "cell_type": "code",
   "execution_count": null,
   "metadata": {},
   "outputs": [],
   "source": [
    "vif = pd.DataFrame()\n",
    "vif[\"VIF Factor\"] = [variance_inflation_factor(predictors.values, i) for i in range(predictors.shape[1])]\n",
    "vif[\"features\"] = predictors.columns"
   ]
  },
  {
   "cell_type": "code",
   "execution_count": null,
   "metadata": {},
   "outputs": [],
   "source": [
    "vif.sort_values(\n",
    "    by=['VIF Factor'],\n",
    "    ascending=False,\n",
    "    inplace=True\n",
    ")\n",
    "vif.head(20).round(1)"
   ]
  }
 ],
 "metadata": {
  "kernelspec": {
   "display_name": "Python 3",
   "language": "python",
   "name": "python3"
  },
  "language_info": {
   "codemirror_mode": {
    "name": "ipython",
    "version": 3
   },
   "file_extension": ".py",
   "mimetype": "text/x-python",
   "name": "python",
   "nbconvert_exporter": "python",
   "pygments_lexer": "ipython3",
   "version": "3.7.7"
  }
 },
 "nbformat": 4,
 "nbformat_minor": 4
}
